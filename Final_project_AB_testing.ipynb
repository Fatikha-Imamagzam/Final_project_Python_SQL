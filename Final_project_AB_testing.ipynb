{
 "cells": [
  {
   "cell_type": "raw",
   "metadata": {},
   "source": [
    "Task 1. A/B testing\n",
    "1.1 Condition\n",
    "\n",
    "One of the main tasks of the analyst in our team is the correct conduct of experiments. To do this, we use the A/B testing method. During testing of one hypothesis, the target group was offered a new mechanism for paying for services on the site, while the control group retained the basic mechanics. As a task, you need to analyze the results of the experiment and decide whether it is worth launching a new payment mechanism for all users.\n",
    "\n",
    "1.2 Input\n",
    "\n",
    "You have 4 csv files as input:\n",
    "\n",
    "groups.csv - file with information about the user's belonging to the control or experimental group (A - control, B - target group)\n",
    "groups_add.csv - an additional file with users that was sent to you 2 days after the data transfer\n",
    "active_studs.csv - a file with information about users who logged into the platform on the days of the experiment.\n",
    "checks.csv - a file with information about user payments on the days of the experiment.\n",
    "1.3 Questions\n",
    "\n",
    "We invite you to answer the following questions:\n",
    "\n",
    "What metrics do you look at during the analysis and why?\n",
    "Are there differences in performance and what might they be related to?\n",
    "Are these differences statistically significant?\n",
    "Is it worth launching new mechanics for all users?\n",
    "This list of questions is optional, and you can base your answer on your own plan."
   ]
  },
  {
   "cell_type": "code",
   "execution_count": 1,
   "metadata": {},
   "outputs": [],
   "source": [
    "import numpy as np \n",
    "import pylab \n",
    "import scipy.stats as stats\n",
    "import pandas as pd\n",
    "import seaborn as sns\n",
    "import scipy\n",
    "from scipy.stats import ttest_ind\n",
    "import matplotlib.pyplot as plt\n",
    "import numpy as np\n",
    "import pandas as pd\n",
    "from scipy.stats import norm, mannwhitneyu\n",
    "import matplotlib.pyplot as plt\n",
    "from scipy.special import logsumexp\n",
    "from tqdm.auto import tqdm\n",
    "from urllib.parse import urlencode\n",
    "import requests\n",
    "from scipy.stats import chi2_contingency\n",
    "plt.style.use('ggplot')"
   ]
  },
  {
   "cell_type": "markdown",
   "metadata": {},
   "source": [
    "# Task 1"
   ]
  },
  {
   "cell_type": "code",
   "execution_count": 2,
   "metadata": {},
   "outputs": [],
   "source": [
    "#Reading the data from Yandex disc and opening as dataframe\n",
    "base_url = 'https://cloud-api.yandex.net/v1/disk/public/resources/download?'\n",
    "public_keys = ['https://disk.yandex.ru/d/58Us0DWOzuWAjg', # groups.csv\n",
    "               'https://disk.yandex.ru/d/3aARY-P9pfaksg', # groups_add.csv\n",
    "               'https://disk.yandex.ru/d/prbgU-rZpiXVYg', # active_studs.csv\n",
    "               'https://disk.yandex.ru/d/84hTmELphW2sqQ'] # checks.csv\n",
    "\n",
    "def import_from_Yandex(link, sp):\n",
    "    final_url = base_url + urlencode(dict(public_key=link))\n",
    "    response = requests.get(final_url)\n",
    "    url = response.json()['href']\n",
    "    return pd.read_csv(url, sep=sp)\n",
    "\n",
    "\n",
    "groups      = import_from_Yandex(public_keys[0],';')\n",
    "groups_add  = import_from_Yandex(public_keys[1],',')\n",
    "active_students= import_from_Yandex(public_keys[2],',')\n",
    "checks      = import_from_Yandex(public_keys[3],';')"
   ]
  },
  {
   "cell_type": "code",
   "execution_count": 3,
   "metadata": {},
   "outputs": [
    {
     "data": {
      "text/html": [
       "<div>\n",
       "<style scoped>\n",
       "    .dataframe tbody tr th:only-of-type {\n",
       "        vertical-align: middle;\n",
       "    }\n",
       "\n",
       "    .dataframe tbody tr th {\n",
       "        vertical-align: top;\n",
       "    }\n",
       "\n",
       "    .dataframe thead th {\n",
       "        text-align: right;\n",
       "    }\n",
       "</style>\n",
       "<table border=\"1\" class=\"dataframe\">\n",
       "  <thead>\n",
       "    <tr style=\"text-align: right;\">\n",
       "      <th></th>\n",
       "      <th>student_id</th>\n",
       "      <th>grp</th>\n",
       "      <th>rev</th>\n",
       "    </tr>\n",
       "  </thead>\n",
       "  <tbody>\n",
       "    <tr>\n",
       "      <th>0</th>\n",
       "      <td>581585</td>\n",
       "      <td>A</td>\n",
       "      <td>NaN</td>\n",
       "    </tr>\n",
       "    <tr>\n",
       "      <th>1</th>\n",
       "      <td>3276743</td>\n",
       "      <td>B</td>\n",
       "      <td>NaN</td>\n",
       "    </tr>\n",
       "    <tr>\n",
       "      <th>2</th>\n",
       "      <td>4238589</td>\n",
       "      <td>A</td>\n",
       "      <td>NaN</td>\n",
       "    </tr>\n",
       "    <tr>\n",
       "      <th>3</th>\n",
       "      <td>4475369</td>\n",
       "      <td>B</td>\n",
       "      <td>NaN</td>\n",
       "    </tr>\n",
       "    <tr>\n",
       "      <th>4</th>\n",
       "      <td>5481015</td>\n",
       "      <td>B</td>\n",
       "      <td>NaN</td>\n",
       "    </tr>\n",
       "  </tbody>\n",
       "</table>\n",
       "</div>"
      ],
      "text/plain": [
       "   student_id grp  rev\n",
       "0      581585   A  NaN\n",
       "1     3276743   B  NaN\n",
       "2     4238589   A  NaN\n",
       "3     4475369   B  NaN\n",
       "4     5481015   B  NaN"
      ]
     },
     "execution_count": 3,
     "metadata": {},
     "output_type": "execute_result"
    }
   ],
   "source": [
    "groups.rename(columns={\"id\":\"student_id\"},inplace=True) #giving same name for columns\n",
    "\n",
    "all_users=(active_students.merge(groups, on='student_id', how='inner')).merge(checks, on='student_id', how='left')\n",
    "all_users.head()"
   ]
  },
  {
   "cell_type": "markdown",
   "metadata": {},
   "source": [
    "Dataframes have been concataneted and cleaned. As more than 80 percent of data in rev column are NaN values, they have been dropped. Otherwise, our test results would be uncorrect."
   ]
  },
  {
   "cell_type": "code",
   "execution_count": 4,
   "metadata": {},
   "outputs": [
    {
     "data": {
      "text/html": [
       "<div>\n",
       "<style scoped>\n",
       "    .dataframe tbody tr th:only-of-type {\n",
       "        vertical-align: middle;\n",
       "    }\n",
       "\n",
       "    .dataframe tbody tr th {\n",
       "        vertical-align: top;\n",
       "    }\n",
       "\n",
       "    .dataframe thead th {\n",
       "        text-align: right;\n",
       "    }\n",
       "</style>\n",
       "<table border=\"1\" class=\"dataframe\">\n",
       "  <thead>\n",
       "    <tr style=\"text-align: right;\">\n",
       "      <th></th>\n",
       "      <th>student_id</th>\n",
       "      <th>grp</th>\n",
       "      <th>rev</th>\n",
       "    </tr>\n",
       "  </thead>\n",
       "  <tbody>\n",
       "    <tr>\n",
       "      <th>61</th>\n",
       "      <td>1184303</td>\n",
       "      <td>A</td>\n",
       "      <td>1530.0000</td>\n",
       "    </tr>\n",
       "    <tr>\n",
       "      <th>66</th>\n",
       "      <td>3354191</td>\n",
       "      <td>B</td>\n",
       "      <td>1900.0001</td>\n",
       "    </tr>\n",
       "    <tr>\n",
       "      <th>76</th>\n",
       "      <td>3278734</td>\n",
       "      <td>B</td>\n",
       "      <td>1900.0000</td>\n",
       "    </tr>\n",
       "    <tr>\n",
       "      <th>98</th>\n",
       "      <td>720651</td>\n",
       "      <td>A</td>\n",
       "      <td>1980.0000</td>\n",
       "    </tr>\n",
       "    <tr>\n",
       "      <th>191</th>\n",
       "      <td>1232221</td>\n",
       "      <td>B</td>\n",
       "      <td>1900.0000</td>\n",
       "    </tr>\n",
       "  </tbody>\n",
       "</table>\n",
       "</div>"
      ],
      "text/plain": [
       "     student_id grp        rev\n",
       "61      1184303   A  1530.0000\n",
       "66      3354191   B  1900.0001\n",
       "76      3278734   B  1900.0000\n",
       "98       720651   A  1980.0000\n",
       "191     1232221   B  1900.0000"
      ]
     },
     "execution_count": 4,
     "metadata": {},
     "output_type": "execute_result"
    }
   ],
   "source": [
    "all_users=all_users.dropna()\n",
    "all_users.head()"
   ]
  },
  {
   "cell_type": "code",
   "execution_count": 5,
   "metadata": {},
   "outputs": [],
   "source": [
    "groupA = all_users[all_users['grp']=='A']\n",
    "groupB = all_users[all_users['grp']=='B']\n",
    "#dividing into two groups\n"
   ]
  },
  {
   "cell_type": "code",
   "execution_count": 6,
   "metadata": {},
   "outputs": [
    {
     "data": {
      "text/html": [
       "<div>\n",
       "<style scoped>\n",
       "    .dataframe tbody tr th:only-of-type {\n",
       "        vertical-align: middle;\n",
       "    }\n",
       "\n",
       "    .dataframe tbody tr th {\n",
       "        vertical-align: top;\n",
       "    }\n",
       "\n",
       "    .dataframe thead th {\n",
       "        text-align: right;\n",
       "    }\n",
       "</style>\n",
       "<table border=\"1\" class=\"dataframe\">\n",
       "  <thead>\n",
       "    <tr style=\"text-align: right;\">\n",
       "      <th></th>\n",
       "      <th>count</th>\n",
       "      <th>mean</th>\n",
       "      <th>std</th>\n",
       "      <th>min</th>\n",
       "      <th>25%</th>\n",
       "      <th>50%</th>\n",
       "      <th>75%</th>\n",
       "      <th>max</th>\n",
       "    </tr>\n",
       "  </thead>\n",
       "  <tbody>\n",
       "    <tr>\n",
       "      <th>groupA</th>\n",
       "      <td>78.0</td>\n",
       "      <td>933.589744</td>\n",
       "      <td>919.932711</td>\n",
       "      <td>199.0</td>\n",
       "      <td>290.0</td>\n",
       "      <td>585.0</td>\n",
       "      <td>1114.75</td>\n",
       "      <td>3660.0</td>\n",
       "    </tr>\n",
       "    <tr>\n",
       "      <th>groupB</th>\n",
       "      <td>313.0</td>\n",
       "      <td>1255.827487</td>\n",
       "      <td>791.293377</td>\n",
       "      <td>199.0</td>\n",
       "      <td>489.0</td>\n",
       "      <td>1140.0</td>\n",
       "      <td>1900.00</td>\n",
       "      <td>4650.0</td>\n",
       "    </tr>\n",
       "  </tbody>\n",
       "</table>\n",
       "</div>"
      ],
      "text/plain": [
       "        count         mean         std    min    25%     50%      75%     max\n",
       "groupA   78.0   933.589744  919.932711  199.0  290.0   585.0  1114.75  3660.0\n",
       "groupB  313.0  1255.827487  791.293377  199.0  489.0  1140.0  1900.00  4650.0"
      ]
     },
     "execution_count": 6,
     "metadata": {},
     "output_type": "execute_result"
    }
   ],
   "source": [
    "#Lets see some descriptions of two groups\n",
    "a_group_desc = groupA.rev.describe().to_frame().rename(columns={'rev': 'groupA'})\n",
    "b_group_desc = groupB.rev.describe().to_frame().rename(columns={'rev': 'groupB'})\n",
    "pd.concat([a_group_desc, b_group_desc],axis=1).transpose()"
   ]
  },
  {
   "cell_type": "code",
   "execution_count": 7,
   "metadata": {},
   "outputs": [],
   "source": [
    "#Now, we can choose which metrics should be chosen to analize the results of the test. As the system of payment\n",
    "#type was changed, \n",
    "# first of all, we should pay attention to the average revenue per paying user and the conversion rate. "
   ]
  },
  {
   "cell_type": "code",
   "execution_count": 8,
   "metadata": {},
   "outputs": [
    {
     "name": "stdout",
     "output_type": "stream",
     "text": [
      "Conversion rate of group A:     0.051\n",
      "Conversion rate of group B:     0.046\n",
      "ARPPU of group A:          933.59\n",
      "ARPPU of group B:          1255.827\n"
     ]
    }
   ],
   "source": [
    "#Now, let's see conversion of the two groups and ARPPU\n",
    "row_data=(active_students.merge(groups, on='student_id', how='inner')).merge(checks, on='student_id', how='left')\n",
    "conversion_A=round(row_data.query('grp==\"A\"').rev.value_counts().sum()/len(row_data.query('grp==\"A\"').rev),3)\n",
    "conversion_B=round(row_data.query('grp==\"B\"').rev.value_counts().sum()/len(row_data.query('grp==\"B\"').rev),3)\n",
    "ARPPU_A=round(row_data.query('grp==\"A\"').rev.sum()/len(groupA.grp),3)\n",
    "ARPPU_B=round(row_data.query('grp==\"B\"').rev.sum()/len(groupB.grp),3)\n",
    "print(f\"Conversion rate of group A:     {conversion_A}\\nConversion rate of group B:     {conversion_B}\\nARPPU of group A:          {ARPPU_A}\\nARPPU of group B:          {ARPPU_B}\")"
   ]
  },
  {
   "cell_type": "markdown",
   "metadata": {},
   "source": [
    "Now we can check if the differences in the CR and ARPPU are statistically meaningfull or just a coincidence."
   ]
  },
  {
   "cell_type": "markdown",
   "metadata": {},
   "source": [
    "# CR "
   ]
  },
  {
   "cell_type": "code",
   "execution_count": 9,
   "metadata": {},
   "outputs": [],
   "source": [
    "#For checking CR's meaning, we can use Chi square test, as conversion from active student to costumer have just two value,\n",
    "#bought or did not, so it is categorical data."
   ]
  },
  {
   "cell_type": "code",
   "execution_count": 10,
   "metadata": {},
   "outputs": [],
   "source": [
    "#Null hypothesis:\n",
    "    #H0: there is no relation in CR and being in group A or B \n",
    "    #HA: there is relation in CR and being in group A or B "
   ]
  },
  {
   "cell_type": "code",
   "execution_count": 11,
   "metadata": {},
   "outputs": [],
   "source": [
    "row_data['Conversion']=np.where(row_data.rev.isna(), 0, 1) # adding conversion column to use in contingency table"
   ]
  },
  {
   "cell_type": "code",
   "execution_count": 12,
   "metadata": {},
   "outputs": [
    {
     "data": {
      "text/html": [
       "<div>\n",
       "<style scoped>\n",
       "    .dataframe tbody tr th:only-of-type {\n",
       "        vertical-align: middle;\n",
       "    }\n",
       "\n",
       "    .dataframe tbody tr th {\n",
       "        vertical-align: top;\n",
       "    }\n",
       "\n",
       "    .dataframe thead th {\n",
       "        text-align: right;\n",
       "    }\n",
       "</style>\n",
       "<table border=\"1\" class=\"dataframe\">\n",
       "  <thead>\n",
       "    <tr style=\"text-align: right;\">\n",
       "      <th>grp</th>\n",
       "      <th>A</th>\n",
       "      <th>B</th>\n",
       "    </tr>\n",
       "    <tr>\n",
       "      <th>Conversion</th>\n",
       "      <th></th>\n",
       "      <th></th>\n",
       "    </tr>\n",
       "  </thead>\n",
       "  <tbody>\n",
       "    <tr>\n",
       "      <th>0</th>\n",
       "      <td>1457</td>\n",
       "      <td>6480</td>\n",
       "    </tr>\n",
       "    <tr>\n",
       "      <th>1</th>\n",
       "      <td>78</td>\n",
       "      <td>313</td>\n",
       "    </tr>\n",
       "  </tbody>\n",
       "</table>\n",
       "</div>"
      ],
      "text/plain": [
       "grp            A     B\n",
       "Conversion            \n",
       "0           1457  6480\n",
       "1             78   313"
      ]
     },
     "execution_count": 12,
     "metadata": {},
     "output_type": "execute_result"
    }
   ],
   "source": [
    "conversion_table=pd.crosstab(row_data.Conversion,row_data.grp)\n",
    "conversion_table"
   ]
  },
  {
   "cell_type": "code",
   "execution_count": 13,
   "metadata": {},
   "outputs": [
    {
     "data": {
      "text/plain": [
       "0.46803677583199144"
      ]
     },
     "execution_count": 13,
     "metadata": {},
     "output_type": "execute_result"
    }
   ],
   "source": [
    "stat, p, dof, expected=chi2_contingency(conversion_table)\n",
    "p"
   ]
  },
  {
   "cell_type": "code",
   "execution_count": 14,
   "metadata": {},
   "outputs": [],
   "source": [
    "#as p > 0.05  We cannot reject H0, so there is no relation in CR and being in group A or B "
   ]
  },
  {
   "cell_type": "markdown",
   "metadata": {},
   "source": [
    "# ARPPU"
   ]
  },
  {
   "cell_type": "code",
   "execution_count": 15,
   "metadata": {},
   "outputs": [],
   "source": [
    "#Before choosing which statistical test we are going to use, we should check variance of two group, distribution and ect.\n",
    "#For that Levene test was used below."
   ]
  },
  {
   "cell_type": "code",
   "execution_count": 16,
   "metadata": {},
   "outputs": [
    {
     "data": {
      "text/plain": [
       "LeveneResult(statistic=0.3534952458056376, pvalue=0.5524868375224445)"
      ]
     },
     "execution_count": 16,
     "metadata": {},
     "output_type": "execute_result"
    }
   ],
   "source": [
    "stats.levene(groupA['rev'], groupB['rev'] ,center='mean')"
   ]
  },
  {
   "cell_type": "markdown",
   "metadata": {},
   "source": [
    "By checking homegeniuty of variance of two groups we find out that p value is greater than 0.05, that is why we can assume that two groups have different variance."
   ]
  },
  {
   "cell_type": "markdown",
   "metadata": {},
   "source": [
    "Checking normality of the sample. But as we can see from the histogram, it is not normally distributed."
   ]
  },
  {
   "cell_type": "code",
   "execution_count": 17,
   "metadata": {},
   "outputs": [
    {
     "data": {
      "text/plain": [
       "<matplotlib.axes._subplots.AxesSubplot at 0x7fc3715e6080>"
      ]
     },
     "execution_count": 17,
     "metadata": {},
     "output_type": "execute_result"
    },
    {
     "data": {
      "image/png": "[encoded data removed]",
      "text/plain": [
       "<Figure size 432x288 with 1 Axes>"
      ]
     },
     "metadata": {},
     "output_type": "display_data"
    }
   ],
   "source": [
    "all_users['rev'].hist(bins=50)"
   ]
  },
  {
   "cell_type": "markdown",
   "metadata": {},
   "source": [
    "As we can see, intial data was not distributed normally and two groups does not have same variance. That is why we cannot use T-test, as assumptions of T-test were not met. In this case, I am going to use Mann-Whitney U test, which is nonparametric version of t-test. Also, bootstrap method could give us more information."
   ]
  },
  {
   "cell_type": "raw",
   "metadata": {},
   "source": [
    "Hypothesis for Mann-Whitney test:\n",
    "    Null hypothesis: the two populations have identical distributions.\n",
    "    Alternative hypothesis: the two populations have different medians, but otherwise are identical. \n",
    "    "
   ]
  },
  {
   "cell_type": "raw",
   "metadata": {},
   "source": [
    "Hypothesis for bootstrap testing:\n",
    "    Null hypothesis: the two populations have same mean/median  of ARPPU\n",
    "    Alternative hypothesis: the two populations have different mean/median of ARPPU"
   ]
  },
  {
   "cell_type": "markdown",
   "metadata": {},
   "source": [
    "# Bootstrap "
   ]
  },
  {
   "cell_type": "code",
   "execution_count": 18,
   "metadata": {},
   "outputs": [],
   "source": [
    "# Declare a function that will allow us to test hypotheses using the bootstrap\n",
    "# Объявим функцию, которая позволит проверять гипотезы с помощью бутстрапа\n",
    "# Butstrap kullanarak hipotezleri test etmemize izin verecek bir fonksiyon \n",
    "def get_bootstrap_mean(\n",
    "    data_column_1, # числовые значения первой выборки  # numeric values of the first sample # ilk örneğin sayısal değerleri\n",
    "    data_column_2, # числовые значения второй выборки # numeric values of the second sample # ikinci örneğin sayısal değerleri\n",
    "    boot_it = 1000, # количество бутстрэп-подвыборок  # number of bootstrap subsamples # önyükleme alt örneklerinin sayısı\n",
    "    statistic = np.mean, # интересующая нас статистика # statistics we are interested in # ilgilendiğimiz istatistikler\n",
    "    bootstrap_conf_level = 0.95 # уровень значимости # significance level # önem düzeyi\n",
    "):\n",
    "    boot_len = max([len(data_column_1), len(data_column_2)])\n",
    "    boot_data_mean = []\n",
    "    for i in range(boot_it): # извлекаем подвыборки # alt örnekleri çıkar # extract subsamples\n",
    "        samples_1 = data_column_1.sample(\n",
    "            boot_len, \n",
    "            replace = True # параметр возвращения # return parameter # dönüş parametresi\n",
    "        ).values\n",
    "        \n",
    "        samples_2 = data_column_2.sample(\n",
    "            boot_len, \n",
    "            replace = True\n",
    "        ).values\n",
    "        \n",
    "        boot_data_mean.append(statistic(samples_1-samples_2)) # mean() - применяем статистику\n",
    "        \n",
    "    pd_boot_data = pd.DataFrame(boot_data_mean)\n",
    "        \n",
    "    left_quant = (1 - bootstrap_conf_level)/2\n",
    "    right_quant = 1 - (1 - bootstrap_conf_level) / 2\n",
    "    ci = pd_boot_data.quantile([left_quant, right_quant])\n",
    "        \n",
    "    p_1 = norm.cdf(\n",
    "        x = 0, \n",
    "        loc = np.mean(boot_data_mean), \n",
    "        scale = np.std(boot_data_mean)\n",
    "    )\n",
    "    p_2 = norm.cdf(\n",
    "        x = 0, \n",
    "        loc = -np.mean(boot_data_mean), \n",
    "        scale = np.std(boot_data_mean)\n",
    "    )\n",
    "    p_value = min(p_1, p_2) * 2\n",
    "        \n",
    "    return {\"p_value\": p_value}"
   ]
  },
  {
   "cell_type": "code",
   "execution_count": 19,
   "metadata": {},
   "outputs": [],
   "source": [
    "# Declare a function that will allow us to test hypotheses using the bootstrap\n",
    "# Объявим функцию, которая позволит проверять гипотезы с помощью бутстрапа\n",
    "# Butstrap kullanarak hipotezleri test etmemize izin verecek bir fonksiyon \n",
    "def get_bootstrap_median(\n",
    "    data_column_1, # числовые значения первой выборки\n",
    "    data_column_2, # числовые значения второй выборки\n",
    "    boot_it = 1000, # количество бутстрэп-подвыборок\n",
    "    statistic = np.median, # интересующая нас статистика\n",
    "    bootstrap_conf_level = 0.95 # уровень значимости\n",
    "):\n",
    "    boot_len = max([len(data_column_1), len(data_column_2)])\n",
    "    boot_data_median = []\n",
    "    for i in range(boot_it): # извлекаем подвыборки\n",
    "        samples_1 = data_column_1.sample(\n",
    "            boot_len, \n",
    "            replace = True # параметр возвращения\n",
    "        ).values\n",
    "        \n",
    "        samples_2 = data_column_2.sample(\n",
    "            boot_len, \n",
    "            replace = True\n",
    "        ).values\n",
    "        \n",
    "        boot_data_median.append(statistic(samples_1-samples_2)) # mean() - применяем статистику\n",
    "        \n",
    "    pd_boot_data = pd.DataFrame(boot_data_median)\n",
    "        \n",
    "    left_quant = (1 - bootstrap_conf_level)/2\n",
    "    right_quant = 1 - (1 - bootstrap_conf_level) / 2\n",
    "    ci = pd_boot_data.quantile([left_quant, right_quant])\n",
    "        \n",
    "    p_1 = norm.cdf(\n",
    "        x = 0, \n",
    "        loc = np.median(boot_data_median), \n",
    "        scale = np.std(boot_data_median)\n",
    "    )\n",
    "    p_2 = norm.cdf(\n",
    "        x = 0, \n",
    "        loc = -np.median(boot_data_median), \n",
    "        scale = np.std(boot_data_median)\n",
    "    )\n",
    "    p_value = min(p_1, p_2) * 2\n",
    "    \n",
    "       \n",
    "    return {\"p_value\": p_value}"
   ]
  },
  {
   "cell_type": "code",
   "execution_count": 20,
   "metadata": {},
   "outputs": [
    {
     "name": "stdout",
     "output_type": "stream",
     "text": [
      "Boot mean: 1.4000526046977855e-06,       Boot median:1.4000526046977855e-06,      MN 0.000273244700505943\n",
      "Boot mean: 1.2994584271543735e-06,       Boot median:1.2994584271543735e-06,      MN 0.000273244700505943\n",
      "Boot mean: 4.8921787863195435e-06,       Boot median:4.8921787863195435e-06,      MN 0.000273244700505943\n",
      "Boot mean: 3.646720156316577e-06,       Boot median:3.646720156316577e-06,      MN 0.000273244700505943\n",
      "Boot mean: 3.0942837182703024e-06,       Boot median:3.0942837182703024e-06,      MN 0.000273244700505943\n",
      "Boot mean: 1.571898510207019e-06,       Boot median:1.571898510207019e-06,      MN 0.000273244700505943\n",
      "Boot mean: 3.0442854206473088e-06,       Boot median:3.0442854206473088e-06,      MN 0.000273244700505943\n",
      "Boot mean: 1.9974900163968618e-06,       Boot median:1.9974900163968618e-06,      MN 0.000273244700505943\n",
      "Boot mean: 2.3090541334954063e-06,       Boot median:2.3090541334954063e-06,      MN 0.000273244700505943\n",
      "Boot mean: 8.743493781131256e-07,       Boot median:8.743493781131256e-07,      MN 0.000273244700505943\n"
     ]
    }
   ],
   "source": [
    "x=groupA['rev']\n",
    "y=groupB['rev']\n",
    "MW=mannwhitneyu(groupA['rev'], groupB['rev'])\n",
    "for i in range(10):\n",
    "    boot_mean=get_bootstrap_mean(x,y)\n",
    "    boot_median=get_bootstrap_median(x,y)\n",
    "    print(f'Boot mean: {boot_mean[\"p_value\"]},       Boot median:{boot_mean[\"p_value\"]},      MN {MW.pvalue}')"
   ]
  },
  {
   "cell_type": "raw",
   "metadata": {},
   "source": [
    "As we can see, pvalue from Mann-Witney and bootstrap are much less than 0.05. That is why the null hypothesis can be rejected. Which means that two groups come from different distribution and the mean and median of two groups are different. \n",
    "So the difference in the ARPPU is statistically significant. "
   ]
  },
  {
   "cell_type": "raw",
   "metadata": {},
   "source": []
  },
  {
   "cell_type": "code",
   "execution_count": 21,
   "metadata": {},
   "outputs": [
    {
     "data": {
      "image/png": "[encoded data removed]",
      "text/plain": [
       "<Figure size 1080x1080 with 2 Axes>"
      ]
     },
     "metadata": {},
     "output_type": "display_data"
    }
   ],
   "source": [
    "sns.set(font_scale=1.2, style=\"darkgrid\", rc={'figure.figsize':(15,15)})\n",
    "plt.subplot(221)\n",
    "ax =  sns.boxplot(data=row_data.loc[row_data.Conversion==1], x='grp', y='rev')\n",
    "ax.set_xlabel('Группы')\n",
    "ax.set_ylabel('ARPPU')\n",
    "ax.set_title('Боксплот по ARPPU')\n",
    "sns.despine()\n",
    "\n",
    "plt.subplot(222)\n",
    "ax = sns.histplot(data=row_data.loc[row_data.Conversion==1], x='rev', hue='grp', bins=50)\n",
    "ax.set_xlabel('ARPPU')\n",
    "ax.set_ylabel('Количество наблюдение в группе')\n",
    "ax.set_title('Гистограмма распределения ARPPU')\n",
    "sns.despine()"
   ]
  },
  {
   "cell_type": "markdown",
   "metadata": {},
   "source": [
    "На какие метрики Вы смотрите в ходе анализа и почему?\n",
    "Имеются ли различия в показателях и с чем они могут быть связаны?\n",
    "Являются ли эти различия статистически значимыми?\n",
    "Стоит ли запускать новую механику на всех пользователей?"
   ]
  },
  {
   "cell_type": "markdown",
   "metadata": {},
   "source": [
    "We are paying more attention to ARPPU of students, as there is no big difference in conversion rate in two groups. Difference in CR turned out to be not statistically significant. But  ARPPU differs by 324,29 which is 25 percent difference. And those differences are statistically significant because of the t ests we have done and conclusion it brought us. Difference in ARPPU might be because of the more accessable type of payment, for example if the student could pay the course with installments for 12 month, they could afford more courses at the same time or the expensive ones. But the reason that conversion of the group B was less than A might be because student were always used to initial type of payment and they were not considering or wanting other type of payment. But of course, because of luck of information, we cannot say exact reasons. TO know it, we should have how many students were new and how many students were old. But overall, i think that data for analisys was poorly selected and not sufficent to give important advice. \n",
    "We can notice that in the group B, number of students who bougth course on 1900 RUB. We could analize those students by age, school, interest area or anything which makes them in one group, so we could use the new payment type for such groups. \n",
    "So, as a conclusion, we can say that the new type of the payment could increase ARPPU, so we can use it for specific students. "
   ]
  },
  {
   "cell_type": "markdown",
   "metadata": {},
   "source": [
    "# Task 3"
   ]
  },
  {
   "cell_type": "markdown",
   "metadata": {},
   "source": [
    "Function returning the new metrics with groups_add file"
   ]
  },
  {
   "cell_type": "code",
   "execution_count": 22,
   "metadata": {},
   "outputs": [],
   "source": [
    "def metrics(add_url):\n",
    "    base_url = 'https://cloud-api.yandex.net/v1/disk/public/resources/download?'\n",
    "    public_keys = ['https://disk.yandex.ru/d/58Us0DWOzuWAjg', # groups.csv\n",
    "               'https://disk.yandex.ru/d/prbgU-rZpiXVYg', # active_studs.csv\n",
    "               'https://disk.yandex.ru/d/84hTmELphW2sqQ'] # checks.csv\n",
    "\n",
    "    def import_from_Yandex(link, sp):\n",
    "        final_url = base_url + urlencode(dict(public_key=link))\n",
    "        response = requests.get(final_url)\n",
    "        url = response.json()['href']\n",
    "        return pd.read_csv(url, sep=sp)\n",
    "\n",
    "    #reading files\n",
    "    groups      = import_from_Yandex(public_keys[0],';')\n",
    "    groups_add  = import_from_Yandex(add_url,',')\n",
    "    active_students= import_from_Yandex(public_keys[1],',')\n",
    "    checks      = import_from_Yandex(public_keys[2],';')\n",
    "    #cleaning the data and concatenating\n",
    "    groups=groups.rename(columns={\"id\":\"student_id\"})\n",
    "    groups_add=groups_add.rename(columns={\"id\":\"student_id\"})\n",
    "    groups_all=pd.concat([groups,groups_add])\n",
    "    all_students_group=(active_students.merge(groups_all, on='student_id', how='inner'))\n",
    "    conv_data=(checks.merge(all_students_group, on='student_id', how='right'))\n",
    "    groupA = conv_data[conv_data['grp']=='A']\n",
    "    groupB = conv_data[conv_data['grp']=='B']\n",
    "    #finding conversion rate and ARPPU\n",
    "    conversion_A=round(conv_data.query('grp==\"A\"').rev.value_counts().sum()/len(conv_data.query('grp==\"A\"').rev),3)\n",
    "    conversion_B=round(conv_data.query('grp==\"B\"').rev.value_counts().sum()/len(conv_data.query('grp==\"B\"').rev),3)\n",
    "    ARPPU_A=round(conv_data.query('grp==\"A\"').rev.sum()/len(conv_data.query('grp==\"A\" and rev>0').rev),3)\n",
    "    ARPPU_B=round(conv_data.query('grp==\"B\"').rev.sum()/len(conv_data.query('grp==\"B\" and rev>0').rev),3)\n",
    "     \n",
    "    #creating df \n",
    "    data = {'Conversion_rate': [conversion_A,conversion_B],'ARPPU': [ARPPU_A, ARPPU_B]}\n",
    "  \n",
    "    # Creates pandas DataFrame.\n",
    "    df = pd.DataFrame(data, index=['Group A','Group B'])\n",
    "    \n",
    "    #task3.2 graph of metrics\n",
    "    sns.set(palette=\"gist_earth\", \n",
    "            rc={\"axes.grid\":True,\n",
    "            \"grid.color\": \"lightgrey\",\n",
    "            'axes.grid.axis':'y',\n",
    "            'axes.facecolor': 'white'})\n",
    "    \n",
    "    f, ax = plt.subplots(1,2,figsize=(20,4))\n",
    "    \n",
    "    \n",
    "    sns.barplot(x = ['Group A', 'Group B'], y=[df.Conversion_rate[0],df.Conversion_rate[1]], ax=ax[0])\n",
    "    ax[0].fill_between([0.4,0.6],\n",
    "                     [df.Conversion_rate[0],df.Conversion_rate[1]], alpha=0.6)\n",
    "    \n",
    "    sns.barplot(x =['Group A', 'Group B'], y=[df.ARPPU[0],df.ARPPU[1]], ax=ax[1])\n",
    "    ax[1].fill_between([0.4,0.6],\n",
    "                     [df.ARPPU[0],df.ARPPU[1]], alpha=0.6)\n",
    "    \n",
    "    ax[0].set_title('CR')\n",
    "    ax[1].set_title('ARPPU')\n",
    "   \n",
    "\n",
    "    \n",
    "    return(df)"
   ]
  },
  {
   "cell_type": "code",
   "execution_count": 23,
   "metadata": {},
   "outputs": [
    {
     "name": "stdout",
     "output_type": "stream",
     "text": [
      "         Conversion_rate     ARPPU\n",
      "Group A            0.051   933.590\n",
      "Group B            0.046  1257.879\n"
     ]
    },
    {
     "data": {
      "image/png": "[encoded data removed]",
      "text/plain": [
       "<Figure size 1440x288 with 2 Axes>"
      ]
     },
     "metadata": {},
     "output_type": "display_data"
    }
   ],
   "source": [
    "print(metrics('https://disk.yandex.ru/d/3aARY-P9pfaksg'))  "
   ]
  },
  {
   "cell_type": "code",
   "execution_count": null,
   "metadata": {},
   "outputs": [],
   "source": []
  }
 ],
 "metadata": {
  "kernelspec": {
   "display_name": "Python 3",
   "language": "python",
   "name": "python3"
  },
  "language_info": {
   "codemirror_mode": {
    "name": "ipython",
    "version": 3
   },
   "file_extension": ".py",
   "mimetype": "text/x-python",
   "name": "python",
   "nbconvert_exporter": "python",
   "pygments_lexer": "ipython3",
   "version": "3.7.3"
  }
 },
 "nbformat": 4,
 "nbformat_minor": 4
}
